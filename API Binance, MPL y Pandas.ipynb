{
 "cells": [
  {
   "cell_type": "markdown",
   "id": "e93f8147",
   "metadata": {},
   "source": [
    "## Consumo de la API de Binance para extraer datos útiles en tiempo real sobre criptos. Corrección de algunos datos y plots a modo de ejemplo de la librería mplfinance."
   ]
  },
  {
   "cell_type": "markdown",
   "id": "c1e7432e",
   "metadata": {},
   "source": [
    "### 1) Instalamos e importamos las librerías."
   ]
  },
  {
   "cell_type": "code",
   "execution_count": null,
   "id": "1ba503a5",
   "metadata": {},
   "outputs": [],
   "source": [
    "!pip install python-binance mplfinance\n",
    "# (mplfinance requiere de Pandas y Matplotlib)\n",
    "import pandas as pd\n",
    "from binance import Client"
   ]
  },
  {
   "cell_type": "markdown",
   "id": "36318399",
   "metadata": {},
   "source": [
    "### 2) Ingresamos las keys y hacemos la autenticación."
   ]
  },
  {
   "cell_type": "code",
   "execution_count": null,
   "id": "aef7c4f2",
   "metadata": {},
   "outputs": [],
   "source": [
    "# Necesito 2 keys para usar la API de Binance, para esto se hace lo siguiente:\n",
    "# Inicio sesion en Binance\n",
    "# Creo una API en 'Gestion de API' sobre el logo de perfil en el inicio de Binance.\n",
    "# Al momento de crear la API es IMPORTANTE ir a 'Editar restricciones' y habilitar solo para lectura\n",
    "# asi como tambien restringir el acceso solo para direcciones de IP confiables. Ahi pongo mi IP.\n",
    "# Inserto las keys que genera Binance en variables.\n",
    "api_key = 'Aca va la api key'\n",
    "secret_key = 'Aca la secreta'\n",
    "\n",
    "# Autenticacion de cliente\n",
    "client = Client(api_key,secret_key)\n"
   ]
  },
  {
   "cell_type": "markdown",
   "id": "aa5f3626",
   "metadata": {},
   "source": [
    "### 3) Conversión a DF, ajuste de índice y asignación de variables para tener variedad de datos en tiempo real."
   ]
  },
  {
   "cell_type": "code",
   "execution_count": null,
   "id": "bcdf0bb9",
   "metadata": {},
   "outputs": [],
   "source": [
    "# Obtengo todos los tickers en la variable 'tickers'\n",
    "tickers = client.get_all_tickers()\n",
    "\n",
    "# Convierto a tickers en un DataFrame\n",
    "ticker_df = pd.DataFrame(tickers)\n",
    "#print(ticker_df.head())\n",
    "#print(ticker_df.tail())\n",
    "\n",
    "# Creo un indice basado en el ticker\n",
    "ticker_df.set_index('symbol',inplace=True)\n",
    "# Si quiero saber el precio actual del BTC o cualquier cripto uso 'loc' para localizar dicha moneda y su respectivo\n",
    "# valor. Esto me devuelve el precio en formato de texto, entonces uso 'float' \n",
    "print(\"Actualmente el precio del BTC en USD es:\",float(ticker_df.loc['BTCUSDT']['price']))\n",
    "\n",
    "# Datos de oferta y demanda\n",
    "btc_data = client.get_order_book(symbol='BTCUSDT')\n",
    "# Si imprimo me devuelve el historial de precios y volumenes de bids y asks en forma de diccionario\n",
    "#print(btc_data)\n",
    "\n",
    "# Creo una tabla de muestra con precios y volumenes de los bids\n",
    "btc_bids = pd.DataFrame(btc_data['bids'])\n",
    "btc_bids.columns=['Precio de compra','Volumen']\n",
    "#print(btc_bids.head())\n",
    "\n",
    "# Y otra para asks\n",
    "btc_asks = pd.DataFrame(btc_data['asks'])\n",
    "btc_asks.columns=['Precio de venta','Volumen']\n",
    "#print(btc_asks.head())\n",
    "\n",
    "# Concateno ambas para poder compararlas\n",
    "btc_conc = pd.concat((btc_bids,btc_asks),axis=1)\n",
    "print(btc_conc)"
   ]
  },
  {
   "cell_type": "markdown",
   "id": "78b77266",
   "metadata": {},
   "source": [
    "### 4) Extracción de datos históricos y limpieza de los mismos para su posterior uso."
   ]
  },
  {
   "cell_type": "code",
   "execution_count": null,
   "id": "0b3ff9c2",
   "metadata": {},
   "outputs": [],
   "source": [
    "# Extraigo los datos historicos diarios desde 2017\n",
    "datos_historicos = client.get_historical_klines('BTCUSDT',Client.KLINE_INTERVAL_1DAY,'1 Jan 2017')\n",
    "datos_historicos_df = pd.DataFrame(datos_historicos)\n",
    "#print(datos_historicos_df.head())\n",
    "\n",
    "# Muestra la tabla pero sin identificatorio\n",
    "# Entonces reemplazo esos valores por sus correspondientes nombres\n",
    "datos_historicos_df.columns=['Open Time', 'Open', 'High', 'Low', 'Close', 'Volume', 'Close Time', 'Quote Asset Volume', \n",
    "                    'Number of Trades', 'TB Base Volume', 'TB Quote Volume', 'Ignorar']\n",
    "#print(datos_historicos_df.head())\n",
    "\n",
    "# Chequeo que tipos de datos son las series\n",
    "#print(datos_historicos_df.dtypes)\n",
    "\n",
    "# La mayoria son de tipo object o sea texto, por lo tanto tengo que cambiar a formato de fecha a 'Open Time' y a 'Close Time'\n",
    "# Tambien tengo que cambiar el resto a datos numericos y asi poder hacer analisis.\n",
    "# De object a datetime\n",
    "datos_historicos_df['Open Time']=pd.to_datetime(datos_historicos_df['Open Time']/1000, unit='s')\n",
    "datos_historicos_df['Close Time']=pd.to_datetime(datos_historicos_df['Close Time']/1000, unit='s')\n",
    "\n",
    "# Ahora de object a float\n",
    "columnas_numericas = ['Open','High','Low','Close','Volume','Quote Asset Volume','TB Base Volume','TB Quote Volume']\n",
    "datos_historicos_df[columnas_numericas]=datos_historicos_df[columnas_numericas].apply(pd.to_numeric,axis=1)\n",
    "print(datos_historicos_df.dtypes)\n",
    "print(datos_historicos_df.info())\n",
    "print(datos_historicos_df.describe())"
   ]
  },
  {
   "cell_type": "markdown",
   "id": "e0754aa6",
   "metadata": {},
   "source": [
    "### 5) Hacemos plots a modo de práctica con la librería MPL Finance"
   ]
  },
  {
   "cell_type": "code",
   "execution_count": null,
   "id": "e115dd9d",
   "metadata": {},
   "outputs": [],
   "source": [
    "# Links para personalizar plots con mplfinance: https://medium.com/mlearning-ai/stock-market-data-visualization-using-mplfinance-1d35a8d48e4\n",
    "# https://github.com/matplotlib/mplfinance\n",
    "\n",
    "import mplfinance as mpf\n",
    "\n",
    "mpf.plot(datos_historicos_df.set_index('Close Time').tail(150),type='candle',style='charles',volume=True,\n",
    "         title='BTC/USDT últimos 150 dias',figratio=(20,12), mav=(10,20,30))\n",
    "\n",
    "mpf.plot(datos_historicos_df.set_index('Close Time').tail(70),type='line',\n",
    "         style='mike',title='Tuiteo Elon?',tight_layout=True)\n",
    "\n",
    "ask = input('Compraste arriba de 60k?\\n').lower()\n",
    "if ask == 'si':\n",
    "    print('Te dejaste llevar por el FOMO')\n",
    "elif ask == 'no':\n",
    "    print('Bien! espera una mejor entrada')\n",
    "else:\n",
    "    print('Respuesta Errónea')"
   ]
  }
 ],
 "metadata": {
  "kernelspec": {
   "display_name": "Python 3 (ipykernel)",
   "language": "python",
   "name": "python3"
  },
  "language_info": {
   "codemirror_mode": {
    "name": "ipython",
    "version": 3
   },
   "file_extension": ".py",
   "mimetype": "text/x-python",
   "name": "python",
   "nbconvert_exporter": "python",
   "pygments_lexer": "ipython3",
   "version": "3.8.12"
  }
 },
 "nbformat": 4,
 "nbformat_minor": 5
}
